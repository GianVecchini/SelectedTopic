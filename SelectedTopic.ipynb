{
 "cells": [
  {
   "cell_type": "markdown",
   "metadata": {
    "id": "view-in-github"
   },
   "source": [
    "<a href=\"https://drive.google.com/file/d/1-lmvLqHRoVztabnwQ8RbZuDhpsd1kmYY/view?usp=sharing\" target=\"_parent\"><img src=\"https://colab.research.google.com/assets/colab-badge.svg\" alt=\"Open In Colab\"/></a>"
   ]
  },
  {
   "cell_type": "markdown",
   "metadata": {
    "id": "C1kpc8L4BIgP"
   },
   "source": [
    "**Research project** for the course of *Selected Topics in Music and Acoustic Engineering* :\n",
    "\n",
    "***Music Instrument Classification***\n",
    "---\n",
    "Team:\n",
    "* Andrea Crisafulli\n",
    "* Marco Porcella\n",
    "* Giacomo De Toni\n",
    "* Gianluigi Vecchini"
   ]
  },
  {
   "cell_type": "markdown",
   "metadata": {
    "id": "zV3R57F_h9nz"
   },
   "source": [
    "### *Import libraries*:"
   ]
  },
  {
   "cell_type": "code",
   "execution_count": 1,
   "metadata": {
    "executionInfo": {
     "elapsed": 25,
     "status": "ok",
     "timestamp": 1741789150083,
     "user": {
      "displayName": "gianluigi vecchini",
      "userId": "14572864369043101278"
     },
     "user_tz": -60
    },
    "id": "XSbySaOmh9n0"
   },
   "outputs": [],
   "source": [
    "# ✅ Core Python & Scientific Computing\n",
    "import numpy as np\n",
    "import pandas as pd\n",
    "import matplotlib.pyplot as plt\n",
    "from pathlib import Path\n",
    "import scipy.signal as signal\n",
    "\n",
    "# ✅ Audio Processing\n",
    "import librosa\n",
    "import librosa.display\n",
    "import IPython\n",
    "\n",
    "# ✅ Scikit-learn (ML + preprocessing)\n",
    "import sklearn\n",
    "from sklearn.metrics import accuracy_score, classification_report, confusion_matrix, ConfusionMatrixDisplay\n",
    "from sklearn.decomposition import PCA\n",
    "from sklearn.preprocessing import scale, StandardScaler\n",
    "from sklearn.model_selection import train_test_split\n",
    "from sklearn.svm import SVC\n",
    "from sklearn.neighbors import KNeighborsClassifier\n",
    "from sklearn.cluster import KMeans\n",
    "\n",
    "# ✅ TensorFlow / Keras (DL)\n",
    "import tensorflow as tf\n",
    "from tensorflow.keras.callbacks import CSVLogger, EarlyStopping, ModelCheckpoint\n",
    "\n",
    "# ✅ PyTorch (opzionale, se usi anche torch)\n",
    "import torch\n",
    "import torch.nn as nn\n",
    "import torch.nn.functional as F\n",
    "\n",
    "import yaml\n",
    "from pathlib import Path\n",
    "\n",
    "import pandas as pd\n",
    "import yaml\n",
    "from pathlib import Path\n",
    "from sklearn.preprocessing import MultiLabelBinarizer\n",
    "\n",
    "\n",
    "# ✅ Plotting style\n",
    "plt.style.use(\"seaborn-v0_8\")\n"
   ]
  },
  {
   "cell_type": "code",
   "execution_count": 2,
   "metadata": {},
   "outputs": [],
   "source": [
    "class CNN_MFCC(nn.Module):\n",
    "    def __init__(self, num_classes):\n",
    "        super().__init__()\n",
    "        self.conv1 = nn.Conv2d(1, 16, kernel_size=3)\n",
    "        self.pool = nn.MaxPool2d(2)\n",
    "        self.conv2 = nn.Conv2d(16, 32, kernel_size=3)\n",
    "        self.fc1 = nn.Linear(32 * 30 * 3, 64)\n",
    "        self.fc2 = nn.Linear(64, num_classes)\n",
    "\n",
    "    def forward(self, x):\n",
    "        x = self.pool(F.relu(self.conv1(x.unsqueeze(1))))\n",
    "        x = self.pool(F.relu(self.conv2(x)))\n",
    "        x = x.view(x.size(0), -1)\n",
    "        x = F.relu(self.fc1(x))\n",
    "        return self.fc2(x)"
   ]
  },
  {
   "cell_type": "code",
   "execution_count": 3,
   "metadata": {},
   "outputs": [],
   "source": [
    "def extract_mfcc(file_path, n_mfcc=13, max_len=130):\n",
    "    y, sr = librosa.load(file_path, sr=None)\n",
    "    mfcc = librosa.feature.mfcc(y=y, sr=sr, n_mfcc=n_mfcc)\n",
    "    if mfcc.shape[1] < max_len:\n",
    "        pad_width = max_len - mfcc.shape[1]\n",
    "        mfcc = np.pad(mfcc, ((0, 0), (0, pad_width)), mode='constant')\n",
    "    else:\n",
    "        mfcc = mfcc[:, :max_len]\n",
    "    return mfcc"
   ]
  },
  {
   "cell_type": "markdown",
   "metadata": {
    "id": "yc88qhCUSlQi"
   },
   "source": [
    "### Import audio data."
   ]
  },
  {
   "cell_type": "code",
   "execution_count": 4,
   "metadata": {},
   "outputs": [
    {
     "ename": "FileNotFoundError",
     "evalue": "[WinError 3] Impossibile trovare il percorso specificato: 'E:\\\\MedleyDB\\\\Audio'",
     "output_type": "error",
     "traceback": [
      "\u001b[1;31m---------------------------------------------------------------------------\u001b[0m",
      "\u001b[1;31mFileNotFoundError\u001b[0m                         Traceback (most recent call last)",
      "Cell \u001b[1;32mIn[4], line 6\u001b[0m\n\u001b[0;32m      3\u001b[0m data \u001b[38;5;241m=\u001b[39m []\n\u001b[0;32m      5\u001b[0m \u001b[38;5;66;03m# Iterates over directories in the melodyDB/Audio folder\u001b[39;00m\n\u001b[1;32m----> 6\u001b[0m \u001b[38;5;28;01mfor\u001b[39;00m songDir \u001b[38;5;129;01min\u001b[39;00m audioPath\u001b[38;5;241m.\u001b[39miterdir():\n\u001b[0;32m      7\u001b[0m     labelArray \u001b[38;5;241m=\u001b[39m []\n\u001b[0;32m      9\u001b[0m     \u001b[38;5;66;03m# Security check to skip not directory items\u001b[39;00m\n",
      "File \u001b[1;32mC:\\Program Files\\WindowsApps\\PythonSoftwareFoundation.Python.3.10_3.10.3056.0_x64__qbz5n2kfra8p0\\lib\\pathlib.py:1017\u001b[0m, in \u001b[0;36mPath.iterdir\u001b[1;34m(self)\u001b[0m\n\u001b[0;32m   1013\u001b[0m \u001b[38;5;28;01mdef\u001b[39;00m\u001b[38;5;250m \u001b[39m\u001b[38;5;21miterdir\u001b[39m(\u001b[38;5;28mself\u001b[39m):\n\u001b[0;32m   1014\u001b[0m \u001b[38;5;250m    \u001b[39m\u001b[38;5;124;03m\"\"\"Iterate over the files in this directory.  Does not yield any\u001b[39;00m\n\u001b[0;32m   1015\u001b[0m \u001b[38;5;124;03m    result for the special paths '.' and '..'.\u001b[39;00m\n\u001b[0;32m   1016\u001b[0m \u001b[38;5;124;03m    \"\"\"\u001b[39;00m\n\u001b[1;32m-> 1017\u001b[0m     \u001b[38;5;28;01mfor\u001b[39;00m name \u001b[38;5;129;01min\u001b[39;00m \u001b[38;5;28;43mself\u001b[39;49m\u001b[38;5;241;43m.\u001b[39;49m\u001b[43m_accessor\u001b[49m\u001b[38;5;241;43m.\u001b[39;49m\u001b[43mlistdir\u001b[49m\u001b[43m(\u001b[49m\u001b[38;5;28;43mself\u001b[39;49m\u001b[43m)\u001b[49m:\n\u001b[0;32m   1018\u001b[0m         \u001b[38;5;28;01mif\u001b[39;00m name \u001b[38;5;129;01min\u001b[39;00m {\u001b[38;5;124m'\u001b[39m\u001b[38;5;124m.\u001b[39m\u001b[38;5;124m'\u001b[39m, \u001b[38;5;124m'\u001b[39m\u001b[38;5;124m..\u001b[39m\u001b[38;5;124m'\u001b[39m}:\n\u001b[0;32m   1019\u001b[0m             \u001b[38;5;66;03m# Yielding a path object for these makes little sense\u001b[39;00m\n\u001b[0;32m   1020\u001b[0m             \u001b[38;5;28;01mcontinue\u001b[39;00m\n",
      "\u001b[1;31mFileNotFoundError\u001b[0m: [WinError 3] Impossibile trovare il percorso specificato: 'E:\\\\MedleyDB\\\\Audio'"
     ]
    }
   ],
   "source": [
    "basePath = Path(\"E:/MedleyDB\")\n",
    "audioPath = basePath / \"Audio\"\n",
    "data = []\n",
    "\n",
    "# Iterates over directories in the melodyDB/Audio folder\n",
    "for songDir in audioPath.iterdir():\n",
    "    labelArray = []\n",
    "    \n",
    "    # Security check to skip not directory items\n",
    "    if not songDir.is_dir():\n",
    "        continue\n",
    "    \n",
    "    songName = songDir.name\n",
    "    yamlFilePath = audioPath / songDir / f\"{songName}_METADATA.yaml\" # Path to YAML metadata file\n",
    "    \n",
    "    # Opens YAML metadata file in read mode\n",
    "    with open(yamlFilePath, \"r\") as f:\n",
    "        metadata = yaml.safe_load(f)\n",
    "    \n",
    "    # Recovers stems from metadata and stores in dictionary\n",
    "    stemsData = metadata.get(\"stems\", {})\n",
    "    \n",
    "    # Iterates over stems\n",
    "    for stemId, stem in stemsData.items():\n",
    "        instrumentData = [] # Empty data for raw paths\n",
    "        \n",
    "        rawData = stem.get(\"raw\", {})\n",
    "        # Iterates over raw items to store the relative paths\n",
    "        for rawId, raw in rawData.items():\n",
    "            rawPath = songDir /  f\"{songName}_RAW\" / raw.get(\"filename\")\n",
    "            \n",
    "            # Checks for valid files\n",
    "            if(not rawPath.name.startswith(\".\")):\n",
    "                newData = {\n",
    "                    \"song\": songName,\n",
    "                    \"songPath\": audioPath / songDir,\n",
    "                    \"label\": stem.get(\"instrument\"),\n",
    "                    \"filePath\": rawPath\n",
    "                }\n",
    "                \n",
    "                data.append(newData)\n",
    "        \n",
    "        # Creates new data\n",
    "        newData = {\n",
    "            \"song\": songName,\n",
    "            \"songPath\": songDir,\n",
    "            \"label\": stem.get(\"instrument\"),\n",
    "            \"filePath\": songDir / f\"{songName}_STEMS\" / stem.get(\"filename\")\n",
    "        }\n",
    "        \n",
    "        # Appends to data \n",
    "        data.append(newData)\n",
    "        \n",
    "        labelArray.append(stem.get(\"instrument\"))\n",
    "        \n",
    "    labelFormatted = \"|\".join(sorted(set(labelArray)))\n",
    "    \n",
    "    mixData = {\n",
    "        \"song\": songName,\n",
    "        \"songPath\": audioPath / songDir,\n",
    "        \"label\": labelFormatted,\n",
    "        \"filePath\": songDir / f\"{songName}_MIX.wav\"\n",
    "    }\n",
    "    \n",
    "    data.append(mixData)\n",
    "# Create DataFrame\n",
    "df = pd.DataFrame(data)\n",
    "print(f\"Loaded {len(df)} audio files.\")\n",
    "\n",
    "# Converte stringa in lista\n",
    "df[\"labelList\"] = df[\"label\"].str.split(\"|\")\n",
    "\n",
    "mlb = MultiLabelBinarizer()\n",
    "mlb.fit_transform(df[\"labelList\"])"
   ]
  },
  {
   "cell_type": "code",
   "execution_count": 137,
   "metadata": {},
   "outputs": [
    {
     "data": {
      "text/html": [
       "<div>\n",
       "<style scoped>\n",
       "    .dataframe tbody tr th:only-of-type {\n",
       "        vertical-align: middle;\n",
       "    }\n",
       "\n",
       "    .dataframe tbody tr th {\n",
       "        vertical-align: top;\n",
       "    }\n",
       "\n",
       "    .dataframe thead th {\n",
       "        text-align: right;\n",
       "    }\n",
       "</style>\n",
       "<table border=\"1\" class=\"dataframe\">\n",
       "  <thead>\n",
       "    <tr style=\"text-align: right;\">\n",
       "      <th></th>\n",
       "      <th>song</th>\n",
       "      <th>songPath</th>\n",
       "      <th>label</th>\n",
       "      <th>filePath</th>\n",
       "      <th>labelList</th>\n",
       "    </tr>\n",
       "  </thead>\n",
       "  <tbody>\n",
       "    <tr>\n",
       "      <th>0</th>\n",
       "      <td>AClassicEducation_NightOwl</td>\n",
       "      <td>E:\\MedleyDB\\Audio\\AClassicEducation_NightOwl</td>\n",
       "      <td>electric bass</td>\n",
       "      <td>E:\\MedleyDB\\Audio\\AClassicEducation_NightOwl\\A...</td>\n",
       "      <td>[electric bass]</td>\n",
       "    </tr>\n",
       "    <tr>\n",
       "      <th>1</th>\n",
       "      <td>AClassicEducation_NightOwl</td>\n",
       "      <td>E:\\MedleyDB\\Audio\\AClassicEducation_NightOwl</td>\n",
       "      <td>electric bass</td>\n",
       "      <td>E:\\MedleyDB\\Audio\\AClassicEducation_NightOwl\\A...</td>\n",
       "      <td>[electric bass]</td>\n",
       "    </tr>\n",
       "    <tr>\n",
       "      <th>2</th>\n",
       "      <td>AClassicEducation_NightOwl</td>\n",
       "      <td>E:\\MedleyDB\\Audio\\AClassicEducation_NightOwl</td>\n",
       "      <td>electric bass</td>\n",
       "      <td>E:\\MedleyDB\\Audio\\AClassicEducation_NightOwl\\A...</td>\n",
       "      <td>[electric bass]</td>\n",
       "    </tr>\n",
       "    <tr>\n",
       "      <th>3</th>\n",
       "      <td>AClassicEducation_NightOwl</td>\n",
       "      <td>E:\\MedleyDB\\Audio\\AClassicEducation_NightOwl</td>\n",
       "      <td>drum set</td>\n",
       "      <td>E:\\MedleyDB\\Audio\\AClassicEducation_NightOwl\\A...</td>\n",
       "      <td>[drum set]</td>\n",
       "    </tr>\n",
       "    <tr>\n",
       "      <th>4</th>\n",
       "      <td>AClassicEducation_NightOwl</td>\n",
       "      <td>E:\\MedleyDB\\Audio\\AClassicEducation_NightOwl</td>\n",
       "      <td>drum set</td>\n",
       "      <td>E:\\MedleyDB\\Audio\\AClassicEducation_NightOwl\\A...</td>\n",
       "      <td>[drum set]</td>\n",
       "    </tr>\n",
       "  </tbody>\n",
       "</table>\n",
       "</div>"
      ],
      "text/plain": [
       "                         song                                      songPath  \\\n",
       "0  AClassicEducation_NightOwl  E:\\MedleyDB\\Audio\\AClassicEducation_NightOwl   \n",
       "1  AClassicEducation_NightOwl  E:\\MedleyDB\\Audio\\AClassicEducation_NightOwl   \n",
       "2  AClassicEducation_NightOwl  E:\\MedleyDB\\Audio\\AClassicEducation_NightOwl   \n",
       "3  AClassicEducation_NightOwl  E:\\MedleyDB\\Audio\\AClassicEducation_NightOwl   \n",
       "4  AClassicEducation_NightOwl  E:\\MedleyDB\\Audio\\AClassicEducation_NightOwl   \n",
       "\n",
       "           label                                           filePath  \\\n",
       "0  electric bass  E:\\MedleyDB\\Audio\\AClassicEducation_NightOwl\\A...   \n",
       "1  electric bass  E:\\MedleyDB\\Audio\\AClassicEducation_NightOwl\\A...   \n",
       "2  electric bass  E:\\MedleyDB\\Audio\\AClassicEducation_NightOwl\\A...   \n",
       "3       drum set  E:\\MedleyDB\\Audio\\AClassicEducation_NightOwl\\A...   \n",
       "4       drum set  E:\\MedleyDB\\Audio\\AClassicEducation_NightOwl\\A...   \n",
       "\n",
       "         labelList  \n",
       "0  [electric bass]  \n",
       "1  [electric bass]  \n",
       "2  [electric bass]  \n",
       "3       [drum set]  \n",
       "4       [drum set]  "
      ]
     },
     "execution_count": 137,
     "metadata": {},
     "output_type": "execute_result"
    }
   ],
   "source": [
    "df.head()"
   ]
  },
  {
   "cell_type": "code",
   "execution_count": 138,
   "metadata": {},
   "outputs": [
    {
     "data": {
      "text/html": [
       "<div>\n",
       "<style scoped>\n",
       "    .dataframe tbody tr th:only-of-type {\n",
       "        vertical-align: middle;\n",
       "    }\n",
       "\n",
       "    .dataframe tbody tr th {\n",
       "        vertical-align: top;\n",
       "    }\n",
       "\n",
       "    .dataframe thead th {\n",
       "        text-align: right;\n",
       "    }\n",
       "</style>\n",
       "<table border=\"1\" class=\"dataframe\">\n",
       "  <thead>\n",
       "    <tr style=\"text-align: right;\">\n",
       "      <th></th>\n",
       "      <th>song</th>\n",
       "      <th>songPath</th>\n",
       "      <th>label</th>\n",
       "      <th>filePath</th>\n",
       "      <th>labelList</th>\n",
       "    </tr>\n",
       "  </thead>\n",
       "  <tbody>\n",
       "    <tr>\n",
       "      <th>2874</th>\n",
       "      <td>Wolf_DieBekherte</td>\n",
       "      <td>E:\\MedleyDB\\Audio\\Wolf_DieBekherte</td>\n",
       "      <td>piano</td>\n",
       "      <td>E:\\MedleyDB\\Audio\\Wolf_DieBekherte\\Wolf_DieBek...</td>\n",
       "      <td>[piano]</td>\n",
       "    </tr>\n",
       "    <tr>\n",
       "      <th>2875</th>\n",
       "      <td>Wolf_DieBekherte</td>\n",
       "      <td>E:\\MedleyDB\\Audio\\Wolf_DieBekherte</td>\n",
       "      <td>piano</td>\n",
       "      <td>E:\\MedleyDB\\Audio\\Wolf_DieBekherte\\Wolf_DieBek...</td>\n",
       "      <td>[piano]</td>\n",
       "    </tr>\n",
       "    <tr>\n",
       "      <th>2876</th>\n",
       "      <td>Wolf_DieBekherte</td>\n",
       "      <td>E:\\MedleyDB\\Audio\\Wolf_DieBekherte</td>\n",
       "      <td>piano</td>\n",
       "      <td>E:\\MedleyDB\\Audio\\Wolf_DieBekherte\\Wolf_DieBek...</td>\n",
       "      <td>[piano]</td>\n",
       "    </tr>\n",
       "    <tr>\n",
       "      <th>2877</th>\n",
       "      <td>Wolf_DieBekherte</td>\n",
       "      <td>E:\\MedleyDB\\Audio\\Wolf_DieBekherte</td>\n",
       "      <td>piano</td>\n",
       "      <td>E:\\MedleyDB\\Audio\\Wolf_DieBekherte\\Wolf_DieBek...</td>\n",
       "      <td>[piano]</td>\n",
       "    </tr>\n",
       "    <tr>\n",
       "      <th>2878</th>\n",
       "      <td>Wolf_DieBekherte</td>\n",
       "      <td>E:\\MedleyDB\\Audio\\Wolf_DieBekherte</td>\n",
       "      <td>female singer|piano</td>\n",
       "      <td>E:\\MedleyDB\\Audio\\Wolf_DieBekherte\\Wolf_DieBek...</td>\n",
       "      <td>[female singer, piano]</td>\n",
       "    </tr>\n",
       "  </tbody>\n",
       "</table>\n",
       "</div>"
      ],
      "text/plain": [
       "                  song                            songPath  \\\n",
       "2874  Wolf_DieBekherte  E:\\MedleyDB\\Audio\\Wolf_DieBekherte   \n",
       "2875  Wolf_DieBekherte  E:\\MedleyDB\\Audio\\Wolf_DieBekherte   \n",
       "2876  Wolf_DieBekherte  E:\\MedleyDB\\Audio\\Wolf_DieBekherte   \n",
       "2877  Wolf_DieBekherte  E:\\MedleyDB\\Audio\\Wolf_DieBekherte   \n",
       "2878  Wolf_DieBekherte  E:\\MedleyDB\\Audio\\Wolf_DieBekherte   \n",
       "\n",
       "                    label                                           filePath  \\\n",
       "2874                piano  E:\\MedleyDB\\Audio\\Wolf_DieBekherte\\Wolf_DieBek...   \n",
       "2875                piano  E:\\MedleyDB\\Audio\\Wolf_DieBekherte\\Wolf_DieBek...   \n",
       "2876                piano  E:\\MedleyDB\\Audio\\Wolf_DieBekherte\\Wolf_DieBek...   \n",
       "2877                piano  E:\\MedleyDB\\Audio\\Wolf_DieBekherte\\Wolf_DieBek...   \n",
       "2878  female singer|piano  E:\\MedleyDB\\Audio\\Wolf_DieBekherte\\Wolf_DieBek...   \n",
       "\n",
       "                   labelList  \n",
       "2874                 [piano]  \n",
       "2875                 [piano]  \n",
       "2876                 [piano]  \n",
       "2877                 [piano]  \n",
       "2878  [female singer, piano]  "
      ]
     },
     "execution_count": 138,
     "metadata": {},
     "output_type": "execute_result"
    }
   ],
   "source": [
    "df.tail()"
   ]
  },
  {
   "cell_type": "code",
   "execution_count": 139,
   "metadata": {},
   "outputs": [
    {
     "name": "stdout",
     "output_type": "stream",
     "text": [
      "<class 'pandas.core.frame.DataFrame'>\n",
      "RangeIndex: 2879 entries, 0 to 2878\n",
      "Data columns (total 5 columns):\n",
      " #   Column     Non-Null Count  Dtype \n",
      "---  ------     --------------  ----- \n",
      " 0   song       2879 non-null   object\n",
      " 1   songPath   2879 non-null   object\n",
      " 2   label      2879 non-null   object\n",
      " 3   filePath   2879 non-null   object\n",
      " 4   labelList  2879 non-null   object\n",
      "dtypes: object(5)\n",
      "memory usage: 112.6+ KB\n"
     ]
    }
   ],
   "source": [
    "df.info()"
   ]
  },
  {
   "cell_type": "code",
   "execution_count": null,
   "metadata": {},
   "outputs": [
    {
     "name": "stdout",
     "output_type": "stream",
     "text": [
      "Extracted files and labels for a total lenght of 2879\n"
     ]
    }
   ],
   "source": [
    "audioFiles = []\n",
    "audioLabels = []\n",
    "\n",
    "# Extract paths and labels\n",
    "for _, row in df.iterrows():\n",
    "    audioFiles.append(row[\"filePath\"])\n",
    "    audioLabels.append(row[\"labelList\"])\n",
    "\n",
    "# Security check\n",
    "if(len(audioFiles) == len(audioLabels)):\n",
    "    print(f\"Extracted files and labels for a total lenght of {len(audioFiles)}\")\n",
    "else:\n",
    "    print(\"Error in dataset\")"
   ]
  },
  {
   "cell_type": "code",
   "execution_count": null,
   "metadata": {},
   "outputs": [],
   "source": [
    "df_subset = df[df['labelList'].isin(sorted(df['labelList'].unique())[:10])]\n",
    "\n",
    "audioFilesSubset = []\n",
    "audioLabelsSubset = []\n",
    "\n",
    "# Extract paths and labels\n",
    "for _, row in df_subset.iterrows():\n",
    "    audioFilesSubset.append(row[\"filePath\"])\n",
    "    audioLabelsSubset.append(row[\"labelList\"])\n",
    "    \n",
    "# Security check\n",
    "if(len(audioFilesSubset) == len(audioLabelsSubset)):\n",
    "    print(f\"Extracted files and labels for a total lenght of {len(audioFilesSubset)}\")\n",
    "else:\n",
    "    print(\"Error in dataset\")"
   ]
  },
  {
   "cell_type": "code",
   "execution_count": 5,
   "metadata": {},
   "outputs": [
    {
     "ename": "NameError",
     "evalue": "name 'df' is not defined",
     "output_type": "error",
     "traceback": [
      "\u001b[1;31m---------------------------------------------------------------------------\u001b[0m",
      "\u001b[1;31mNameError\u001b[0m                                 Traceback (most recent call last)",
      "Cell \u001b[1;32mIn[5], line 4\u001b[0m\n\u001b[0;32m      1\u001b[0m \u001b[38;5;28;01mfrom\u001b[39;00m\u001b[38;5;250m \u001b[39m\u001b[38;5;21;01mcollections\u001b[39;00m\u001b[38;5;250m \u001b[39m\u001b[38;5;28;01mimport\u001b[39;00m Counter\n\u001b[0;32m      3\u001b[0m \u001b[38;5;66;03m# Flatten all labels e conta frequenze\u001b[39;00m\n\u001b[1;32m----> 4\u001b[0m all_labels \u001b[38;5;241m=\u001b[39m \u001b[38;5;28msum\u001b[39m(\u001b[43mdf\u001b[49m[\u001b[38;5;124m\"\u001b[39m\u001b[38;5;124mlabelList\u001b[39m\u001b[38;5;124m\"\u001b[39m], [])\n\u001b[0;32m      5\u001b[0m label_counts \u001b[38;5;241m=\u001b[39m Counter(all_labels)\n\u001b[0;32m      7\u001b[0m \u001b[38;5;66;03m# Prendi le 10 classi più frequenti\u001b[39;00m\n",
      "\u001b[1;31mNameError\u001b[0m: name 'df' is not defined"
     ]
    }
   ],
   "source": [
    "from collections import Counter\n",
    "\n",
    "# Flatten all labels e conta frequenze\n",
    "all_labels = sum(df[\"labelList\"], [])\n",
    "label_counts = Counter(all_labels)\n",
    "\n",
    "# Prendi le 10 classi più frequenti\n",
    "top_labels = [label for label, _ in label_counts.most_common(10)]\n",
    "print(\"Top labels:\", top_labels)\n",
    "\n",
    "# Filtra righe dove almeno una label è in top_labels\n",
    "df_subset = df[df[\"labelList\"].apply(lambda labels: any(label in top_labels for label in labels))]\n",
    "\n",
    "# Estrai audio e label\n",
    "audioFilesSubset = df_subset[\"filePath\"].tolist()\n",
    "audioLabelsSubset = df_subset[\"labelList\"].tolist()\n",
    "\n",
    "if len(audioFilesSubset) == len(audioLabelsSubset):\n",
    "    print(f\"✅ Extracted {len(audioFilesSubset)} samples from top 10 labels\")\n",
    "else:\n",
    "    print(\"❌ Mismatch in extracted data\")\n"
   ]
  },
  {
   "cell_type": "code",
   "execution_count": 141,
   "metadata": {},
   "outputs": [],
   "source": [
    "# FOR TESTING ONLY\n",
    "audioFilesSubset, _, audioLabelsSubset, _ = train_test_split(\n",
    "    audioFiles, audioLabels, test_size=0.80, random_state=42\n",
    ")"
   ]
  },
  {
   "cell_type": "code",
   "execution_count": null,
   "metadata": {},
   "outputs": [
    {
     "name": "stdout",
     "output_type": "stream",
     "text": [
      "575\n",
      "E:\\MedleyDB\\Audio\\JoelHelander_ExcessiveResistancetoChange\\JoelHelander_ExcessiveResistancetoChange_RAW\\JoelHelander_ExcessiveResistancetoChange_RAW_01_07.wav\n"
     ]
    }
   ],
   "source": [
    "# Load data\n",
    "audioFilesToExtract = audioFilesSubset # TESTING\n",
    "#audioFilesToExtract = audioFiles # REAL\n",
    "\n",
    "print(len(audioFilesSubset))\n",
    "\n",
    "print(audioFilesSubset[0])\n",
    "\n",
    "signals = [librosa.load(file, sr=22050) for file in audioFilesSubset]\n",
    "\n",
    "mel_spegrams = []\n",
    "\n",
    "for signal in signals:\n",
    "    S = librosa.feature.melspectrogram(y=signal, sr=22050)\n",
    "    S_dB = librosa.power_to_db(S, ref=np.max)\n",
    "    mel_spegrams.append(S_dB)"
   ]
  },
  {
   "cell_type": "code",
   "execution_count": null,
   "metadata": {},
   "outputs": [],
   "source": [
    "# Convert list to numpy arrays\n",
    "Xdata = np.asarray(mel_spegrams)\n",
    "Ydata = np.asarray(audioLabelsSubset)\n",
    "\n",
    "print('Xdata shape: {} \\nYata shape: {}'.format(Xdata.shape, Ydata.shape))"
   ]
  },
  {
   "cell_type": "code",
   "execution_count": null,
   "metadata": {},
   "outputs": [],
   "source": [
    "# Plot an histogram to see data distribution over classes\n",
    "plt.figure(figsize=(10, 6))  \n",
    "plt.hist(Ydata, bins=20, edgecolor='black') \n",
    "plt.xlabel('Labels', fontsize=12)\n",
    "plt.ylabel('Quantity', fontsize=12)\n",
    "plt.title('Ydata Histogram', fontsize=14)\n",
    "plt.grid(True, linestyle='--', alpha=0.7)  \n",
    "plt.tight_layout()\n",
    "plt.show()"
   ]
  },
  {
   "cell_type": "code",
   "execution_count": null,
   "metadata": {},
   "outputs": [
    {
     "name": "stdout",
     "output_type": "stream",
     "text": [
      "Train: 1400 samples\n",
      "Validation: 300 samples\n",
      "Test: 300 samples\n"
     ]
    }
   ],
   "source": [
    "X = df[\"filepath\"]\n",
    "y = df[\"instrument\"]\n",
    "\n",
    "# Split into Train (70%) and Temp (30%)\n",
    "X_train, X_temp, y_train, y_temp = train_test_split(\n",
    "    X, y, test_size=0.30, stratify=y, random_state=42\n",
    ")\n",
    "\n",
    "# Split Temp into Validation (15%) and Test (15%)\n",
    "X_val, X_test, y_val, y_test = train_test_split(\n",
    "    X_temp, y_temp, test_size=0.5, stratify=y_temp, random_state=42\n",
    ")\n",
    "\n",
    "print(f\"Train: {len(X_train)} samples\")\n",
    "print(f\"Validation: {len(X_val)} samples\")\n",
    "print(f\"Test: {len(X_test)} samples\")\n"
   ]
  }
 ],
 "metadata": {
  "colab": {
   "collapsed_sections": [
    "iNJ-d4zDUwAl"
   ],
   "provenance": [
    {
     "file_id": "1eg4ysGRmcU-8BENj7XWR0P7goV391s_I",
     "timestamp": 1741182208526
    }
   ]
  },
  "kernelspec": {
   "display_name": "venv-timbre",
   "language": "python",
   "name": "python3"
  },
  "language_info": {
   "codemirror_mode": {
    "name": "ipython",
    "version": 3
   },
   "file_extension": ".py",
   "mimetype": "text/x-python",
   "name": "python",
   "nbconvert_exporter": "python",
   "pygments_lexer": "ipython3",
   "version": "3.8.19"
  }
 },
 "nbformat": 4,
 "nbformat_minor": 0
}
