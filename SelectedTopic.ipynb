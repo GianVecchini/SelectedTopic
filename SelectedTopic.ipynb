{
 "cells": [
  {
   "cell_type": "markdown",
   "metadata": {
    "id": "view-in-github"
   },
   "source": [
    "<a href=\"https://drive.google.com/file/d/1-lmvLqHRoVztabnwQ8RbZuDhpsd1kmYY/view?usp=sharing\" target=\"_parent\"><img src=\"https://colab.research.google.com/assets/colab-badge.svg\" alt=\"Open In Colab\"/></a>"
   ]
  },
  {
   "cell_type": "markdown",
   "metadata": {
    "id": "C1kpc8L4BIgP"
   },
   "source": [
    "**Research project** for the course of *Selected Topics in Music and Acoustic Engineering* :\n",
    "\n",
    "***Music Instrument Classification***\n",
    "---\n",
    "Team:\n",
    "* Andrea Crisafulli\n",
    "* Marco Porcella\n",
    "* Giacomo De Toni\n",
    "* Gianluigi Vecchini"
   ]
  },
  {
   "cell_type": "markdown",
   "metadata": {
    "id": "zV3R57F_h9nz"
   },
   "source": [
    "### *Import libraries*:"
   ]
  },
  {
   "cell_type": "code",
   "execution_count": 4,
   "metadata": {
    "executionInfo": {
     "elapsed": 25,
     "status": "ok",
     "timestamp": 1741789150083,
     "user": {
      "displayName": "gianluigi vecchini",
      "userId": "14572864369043101278"
     },
     "user_tz": -60
    },
    "id": "XSbySaOmh9n0"
   },
   "outputs": [],
   "source": [
    "# Core Python & Scientific Computing\n",
    "import numpy as np\n",
    "import pandas as pd\n",
    "import matplotlib.pyplot as plt\n",
    "from pathlib import Path\n",
    "import scipy.signal as signal\n",
    "\n",
    "# Audio Processing\n",
    "import librosa\n",
    "import librosa.display\n",
    "import IPython\n",
    "\n",
    "# Scikit-learn (ML + preprocessing)\n",
    "import sklearn\n",
    "from sklearn.metrics import accuracy_score, classification_report, confusion_matrix, ConfusionMatrixDisplay\n",
    "from sklearn.decomposition import PCA\n",
    "from sklearn.preprocessing import scale, StandardScaler\n",
    "from sklearn.model_selection import train_test_split\n",
    "from sklearn.svm import SVC\n",
    "from sklearn.neighbors import KNeighborsClassifier\n",
    "from sklearn.cluster import KMeans\n",
    "\n",
    "# TensorFlow / Keras (DL)\n",
    "import tensorflow as tf\n",
    "from tensorflow.keras.callbacks import CSVLogger, EarlyStopping, ModelCheckpoint\n",
    "\n",
    "# PyTorch (opzionale, se usi anche torch)\n",
    "#import torch\n",
    "#import torch.nn as nn\n",
    "#import torch.nn.functional as F\n",
    "\n",
    "import yaml\n",
    "from pathlib import Path\n",
    "\n",
    "import pandas as pd\n",
    "import yaml\n",
    "from pathlib import Path\n",
    "from sklearn.preprocessing import MultiLabelBinarizer\n",
    "\n",
    "\n",
    "# Plotting style\n",
    "plt.style.use(\"seaborn-v0_8\")\n"
   ]
  },
  {
   "cell_type": "code",
   "execution_count": 2,
   "metadata": {},
   "outputs": [],
   "source": [
    "class CNN_MFCC(nn.Module):\n",
    "    def __init__(self, num_classes):\n",
    "        super().__init__()\n",
    "        self.conv1 = nn.Conv2d(1, 16, kernel_size=3)\n",
    "        self.pool = nn.MaxPool2d(2)\n",
    "        self.conv2 = nn.Conv2d(16, 32, kernel_size=3)\n",
    "        self.fc1 = nn.Linear(32 * 30 * 3, 64)\n",
    "        self.fc2 = nn.Linear(64, num_classes)\n",
    "\n",
    "    def forward(self, x):\n",
    "        x = self.pool(F.relu(self.conv1(x.unsqueeze(1))))\n",
    "        x = self.pool(F.relu(self.conv2(x)))\n",
    "        x = x.view(x.size(0), -1)\n",
    "        x = F.relu(self.fc1(x))\n",
    "        return self.fc2(x)"
   ]
  },
  {
   "cell_type": "code",
   "execution_count": 3,
   "metadata": {},
   "outputs": [],
   "source": [
    "def extract_mfcc(file_path, n_mfcc=13, max_len=130):\n",
    "    y, sr = librosa.load(file_path, sr=None)\n",
    "    mfcc = librosa.feature.mfcc(y=y, sr=sr, n_mfcc=n_mfcc)\n",
    "    if mfcc.shape[1] < max_len:\n",
    "        pad_width = max_len - mfcc.shape[1]\n",
    "        mfcc = np.pad(mfcc, ((0, 0), (0, pad_width)), mode='constant')\n",
    "    else:\n",
    "        mfcc = mfcc[:, :max_len]\n",
    "    return mfcc"
   ]
  },
  {
   "cell_type": "markdown",
   "metadata": {
    "id": "yc88qhCUSlQi"
   },
   "source": [
    "### Import audio data."
   ]
  },
  {
   "cell_type": "code",
   "execution_count": 6,
   "metadata": {},
   "outputs": [
    {
     "name": "stdout",
     "output_type": "stream",
     "text": [
      "Loaded 2879 audio files.\n"
     ]
    },
    {
     "data": {
      "text/plain": [
       "array([[0, 0, 0, ..., 0, 0, 0],\n",
       "       [0, 0, 0, ..., 0, 0, 0],\n",
       "       [0, 0, 0, ..., 0, 0, 0],\n",
       "       ...,\n",
       "       [0, 0, 0, ..., 0, 0, 0],\n",
       "       [0, 0, 0, ..., 0, 0, 0],\n",
       "       [0, 0, 0, ..., 0, 0, 0]])"
      ]
     },
     "execution_count": 6,
     "metadata": {},
     "output_type": "execute_result"
    }
   ],
   "source": [
    "#basePath = Path(\"E:/MedleyDB\")                          # For windows\n",
    "basePath = Path(\"/Volumes/Extreme SSD/MedleyDB\")        # For mac\n",
    "audioPath = basePath / \"Audio\"\n",
    "data = []\n",
    "\n",
    "# Iterates over directories in the melodyDB/Audio folder\n",
    "for songDir in audioPath.iterdir():\n",
    "    labelArray = []\n",
    "    \n",
    "    # Security check to skip not directory items\n",
    "    if not songDir.is_dir():\n",
    "        continue\n",
    "    \n",
    "    songName = songDir.name\n",
    "    yamlFilePath = audioPath / songDir / f\"{songName}_METADATA.yaml\" # Path to YAML metadata file\n",
    "    \n",
    "    # Opens YAML metadata file in read mode\n",
    "    with open(yamlFilePath, \"r\") as f:\n",
    "        metadata = yaml.safe_load(f)\n",
    "    \n",
    "    # Recovers stems from metadata and stores in dictionary\n",
    "    stemsData = metadata.get(\"stems\", {})\n",
    "    \n",
    "    # Iterates over stems\n",
    "    for stemId, stem in stemsData.items():\n",
    "        instrumentData = [] # Empty data for raw paths\n",
    "        \n",
    "        rawData = stem.get(\"raw\", {})\n",
    "        # Iterates over raw items to store the relative paths\n",
    "        for rawId, raw in rawData.items():\n",
    "            rawPath = songDir /  f\"{songName}_RAW\" / raw.get(\"filename\")\n",
    "            \n",
    "            # Checks for valid files\n",
    "            if(not rawPath.name.startswith(\".\")):\n",
    "                newData = {\n",
    "                    \"song\": songName,\n",
    "                    \"songPath\": audioPath / songDir,\n",
    "                    \"label\": stem.get(\"instrument\"),\n",
    "                    \"filePath\": rawPath\n",
    "                }\n",
    "                \n",
    "                data.append(newData)\n",
    "        \n",
    "        # Creates new data\n",
    "        newData = {\n",
    "            \"song\": songName,\n",
    "            \"songPath\": songDir,\n",
    "            \"label\": stem.get(\"instrument\"),\n",
    "            \"filePath\": songDir / f\"{songName}_STEMS\" / stem.get(\"filename\")\n",
    "        }\n",
    "        \n",
    "        # Appends to data \n",
    "        data.append(newData)\n",
    "        \n",
    "        labelArray.append(stem.get(\"instrument\"))\n",
    "        \n",
    "    labelFormatted = \"|\".join(sorted(set(labelArray)))\n",
    "    \n",
    "    mixData = {\n",
    "        \"song\": songName,\n",
    "        \"songPath\": audioPath / songDir,\n",
    "        \"label\": labelFormatted,\n",
    "        \"filePath\": songDir / f\"{songName}_MIX.wav\"\n",
    "    }\n",
    "    \n",
    "    data.append(mixData)\n",
    "# Create DataFrame\n",
    "df = pd.DataFrame(data)\n",
    "print(f\"Loaded {len(df)} audio files.\")\n",
    "\n",
    "# Converte stringa in lista\n",
    "df[\"labelList\"] = df[\"label\"].str.split(\"|\")\n",
    "\n",
    "mlb = MultiLabelBinarizer()\n",
    "mlb.fit_transform(df[\"labelList\"])"
   ]
  },
  {
   "cell_type": "code",
   "execution_count": 7,
   "metadata": {},
   "outputs": [
    {
     "data": {
      "text/html": [
       "<div>\n",
       "<style scoped>\n",
       "    .dataframe tbody tr th:only-of-type {\n",
       "        vertical-align: middle;\n",
       "    }\n",
       "\n",
       "    .dataframe tbody tr th {\n",
       "        vertical-align: top;\n",
       "    }\n",
       "\n",
       "    .dataframe thead th {\n",
       "        text-align: right;\n",
       "    }\n",
       "</style>\n",
       "<table border=\"1\" class=\"dataframe\">\n",
       "  <thead>\n",
       "    <tr style=\"text-align: right;\">\n",
       "      <th></th>\n",
       "      <th>song</th>\n",
       "      <th>songPath</th>\n",
       "      <th>label</th>\n",
       "      <th>filePath</th>\n",
       "      <th>labelList</th>\n",
       "    </tr>\n",
       "  </thead>\n",
       "  <tbody>\n",
       "    <tr>\n",
       "      <th>0</th>\n",
       "      <td>AClassicEducation_NightOwl</td>\n",
       "      <td>/Volumes/Extreme SSD/MedleyDB/Audio/AClassicEd...</td>\n",
       "      <td>electric bass</td>\n",
       "      <td>/Volumes/Extreme SSD/MedleyDB/Audio/AClassicEd...</td>\n",
       "      <td>[electric bass]</td>\n",
       "    </tr>\n",
       "    <tr>\n",
       "      <th>1</th>\n",
       "      <td>AClassicEducation_NightOwl</td>\n",
       "      <td>/Volumes/Extreme SSD/MedleyDB/Audio/AClassicEd...</td>\n",
       "      <td>electric bass</td>\n",
       "      <td>/Volumes/Extreme SSD/MedleyDB/Audio/AClassicEd...</td>\n",
       "      <td>[electric bass]</td>\n",
       "    </tr>\n",
       "    <tr>\n",
       "      <th>2</th>\n",
       "      <td>AClassicEducation_NightOwl</td>\n",
       "      <td>/Volumes/Extreme SSD/MedleyDB/Audio/AClassicEd...</td>\n",
       "      <td>electric bass</td>\n",
       "      <td>/Volumes/Extreme SSD/MedleyDB/Audio/AClassicEd...</td>\n",
       "      <td>[electric bass]</td>\n",
       "    </tr>\n",
       "    <tr>\n",
       "      <th>3</th>\n",
       "      <td>AClassicEducation_NightOwl</td>\n",
       "      <td>/Volumes/Extreme SSD/MedleyDB/Audio/AClassicEd...</td>\n",
       "      <td>drum set</td>\n",
       "      <td>/Volumes/Extreme SSD/MedleyDB/Audio/AClassicEd...</td>\n",
       "      <td>[drum set]</td>\n",
       "    </tr>\n",
       "    <tr>\n",
       "      <th>4</th>\n",
       "      <td>AClassicEducation_NightOwl</td>\n",
       "      <td>/Volumes/Extreme SSD/MedleyDB/Audio/AClassicEd...</td>\n",
       "      <td>drum set</td>\n",
       "      <td>/Volumes/Extreme SSD/MedleyDB/Audio/AClassicEd...</td>\n",
       "      <td>[drum set]</td>\n",
       "    </tr>\n",
       "  </tbody>\n",
       "</table>\n",
       "</div>"
      ],
      "text/plain": [
       "                         song  \\\n",
       "0  AClassicEducation_NightOwl   \n",
       "1  AClassicEducation_NightOwl   \n",
       "2  AClassicEducation_NightOwl   \n",
       "3  AClassicEducation_NightOwl   \n",
       "4  AClassicEducation_NightOwl   \n",
       "\n",
       "                                            songPath          label  \\\n",
       "0  /Volumes/Extreme SSD/MedleyDB/Audio/AClassicEd...  electric bass   \n",
       "1  /Volumes/Extreme SSD/MedleyDB/Audio/AClassicEd...  electric bass   \n",
       "2  /Volumes/Extreme SSD/MedleyDB/Audio/AClassicEd...  electric bass   \n",
       "3  /Volumes/Extreme SSD/MedleyDB/Audio/AClassicEd...       drum set   \n",
       "4  /Volumes/Extreme SSD/MedleyDB/Audio/AClassicEd...       drum set   \n",
       "\n",
       "                                            filePath        labelList  \n",
       "0  /Volumes/Extreme SSD/MedleyDB/Audio/AClassicEd...  [electric bass]  \n",
       "1  /Volumes/Extreme SSD/MedleyDB/Audio/AClassicEd...  [electric bass]  \n",
       "2  /Volumes/Extreme SSD/MedleyDB/Audio/AClassicEd...  [electric bass]  \n",
       "3  /Volumes/Extreme SSD/MedleyDB/Audio/AClassicEd...       [drum set]  \n",
       "4  /Volumes/Extreme SSD/MedleyDB/Audio/AClassicEd...       [drum set]  "
      ]
     },
     "execution_count": 7,
     "metadata": {},
     "output_type": "execute_result"
    }
   ],
   "source": [
    "df.head()"
   ]
  },
  {
   "cell_type": "code",
   "execution_count": 9,
   "metadata": {},
   "outputs": [
    {
     "data": {
      "text/html": [
       "<div>\n",
       "<style scoped>\n",
       "    .dataframe tbody tr th:only-of-type {\n",
       "        vertical-align: middle;\n",
       "    }\n",
       "\n",
       "    .dataframe tbody tr th {\n",
       "        vertical-align: top;\n",
       "    }\n",
       "\n",
       "    .dataframe thead th {\n",
       "        text-align: right;\n",
       "    }\n",
       "</style>\n",
       "<table border=\"1\" class=\"dataframe\">\n",
       "  <thead>\n",
       "    <tr style=\"text-align: right;\">\n",
       "      <th></th>\n",
       "      <th>song</th>\n",
       "      <th>songPath</th>\n",
       "      <th>label</th>\n",
       "      <th>filePath</th>\n",
       "      <th>labelList</th>\n",
       "    </tr>\n",
       "  </thead>\n",
       "  <tbody>\n",
       "    <tr>\n",
       "      <th>2874</th>\n",
       "      <td>Wolf_DieBekherte</td>\n",
       "      <td>/Volumes/Extreme SSD/MedleyDB/Audio/Wolf_DieBe...</td>\n",
       "      <td>piano</td>\n",
       "      <td>/Volumes/Extreme SSD/MedleyDB/Audio/Wolf_DieBe...</td>\n",
       "      <td>[piano]</td>\n",
       "    </tr>\n",
       "    <tr>\n",
       "      <th>2875</th>\n",
       "      <td>Wolf_DieBekherte</td>\n",
       "      <td>/Volumes/Extreme SSD/MedleyDB/Audio/Wolf_DieBe...</td>\n",
       "      <td>piano</td>\n",
       "      <td>/Volumes/Extreme SSD/MedleyDB/Audio/Wolf_DieBe...</td>\n",
       "      <td>[piano]</td>\n",
       "    </tr>\n",
       "    <tr>\n",
       "      <th>2876</th>\n",
       "      <td>Wolf_DieBekherte</td>\n",
       "      <td>/Volumes/Extreme SSD/MedleyDB/Audio/Wolf_DieBe...</td>\n",
       "      <td>piano</td>\n",
       "      <td>/Volumes/Extreme SSD/MedleyDB/Audio/Wolf_DieBe...</td>\n",
       "      <td>[piano]</td>\n",
       "    </tr>\n",
       "    <tr>\n",
       "      <th>2877</th>\n",
       "      <td>Wolf_DieBekherte</td>\n",
       "      <td>/Volumes/Extreme SSD/MedleyDB/Audio/Wolf_DieBe...</td>\n",
       "      <td>piano</td>\n",
       "      <td>/Volumes/Extreme SSD/MedleyDB/Audio/Wolf_DieBe...</td>\n",
       "      <td>[piano]</td>\n",
       "    </tr>\n",
       "    <tr>\n",
       "      <th>2878</th>\n",
       "      <td>Wolf_DieBekherte</td>\n",
       "      <td>/Volumes/Extreme SSD/MedleyDB/Audio/Wolf_DieBe...</td>\n",
       "      <td>female singer|piano</td>\n",
       "      <td>/Volumes/Extreme SSD/MedleyDB/Audio/Wolf_DieBe...</td>\n",
       "      <td>[female singer, piano]</td>\n",
       "    </tr>\n",
       "  </tbody>\n",
       "</table>\n",
       "</div>"
      ],
      "text/plain": [
       "                  song                                           songPath  \\\n",
       "2874  Wolf_DieBekherte  /Volumes/Extreme SSD/MedleyDB/Audio/Wolf_DieBe...   \n",
       "2875  Wolf_DieBekherte  /Volumes/Extreme SSD/MedleyDB/Audio/Wolf_DieBe...   \n",
       "2876  Wolf_DieBekherte  /Volumes/Extreme SSD/MedleyDB/Audio/Wolf_DieBe...   \n",
       "2877  Wolf_DieBekherte  /Volumes/Extreme SSD/MedleyDB/Audio/Wolf_DieBe...   \n",
       "2878  Wolf_DieBekherte  /Volumes/Extreme SSD/MedleyDB/Audio/Wolf_DieBe...   \n",
       "\n",
       "                    label                                           filePath  \\\n",
       "2874                piano  /Volumes/Extreme SSD/MedleyDB/Audio/Wolf_DieBe...   \n",
       "2875                piano  /Volumes/Extreme SSD/MedleyDB/Audio/Wolf_DieBe...   \n",
       "2876                piano  /Volumes/Extreme SSD/MedleyDB/Audio/Wolf_DieBe...   \n",
       "2877                piano  /Volumes/Extreme SSD/MedleyDB/Audio/Wolf_DieBe...   \n",
       "2878  female singer|piano  /Volumes/Extreme SSD/MedleyDB/Audio/Wolf_DieBe...   \n",
       "\n",
       "                   labelList  \n",
       "2874                 [piano]  \n",
       "2875                 [piano]  \n",
       "2876                 [piano]  \n",
       "2877                 [piano]  \n",
       "2878  [female singer, piano]  "
      ]
     },
     "execution_count": 9,
     "metadata": {},
     "output_type": "execute_result"
    }
   ],
   "source": [
    "df.tail()"
   ]
  },
  {
   "cell_type": "code",
   "execution_count": 10,
   "metadata": {},
   "outputs": [
    {
     "name": "stdout",
     "output_type": "stream",
     "text": [
      "<class 'pandas.core.frame.DataFrame'>\n",
      "RangeIndex: 2879 entries, 0 to 2878\n",
      "Data columns (total 5 columns):\n",
      " #   Column     Non-Null Count  Dtype \n",
      "---  ------     --------------  ----- \n",
      " 0   song       2879 non-null   object\n",
      " 1   songPath   2879 non-null   object\n",
      " 2   label      2879 non-null   object\n",
      " 3   filePath   2879 non-null   object\n",
      " 4   labelList  2879 non-null   object\n",
      "dtypes: object(5)\n",
      "memory usage: 112.6+ KB\n"
     ]
    }
   ],
   "source": [
    "df.info()"
   ]
  },
  {
   "cell_type": "code",
   "execution_count": 12,
   "metadata": {},
   "outputs": [
    {
     "name": "stdout",
     "output_type": "stream",
     "text": [
      "Extracted files and labels for a total lenght of 2879\n"
     ]
    }
   ],
   "source": [
    "audioFiles = []\n",
    "audioLabels = []\n",
    "\n",
    "# Extract paths and labels\n",
    "for _, row in df.iterrows():\n",
    "    audioFiles.append(row[\"filePath\"])\n",
    "    audioLabels.append(row[\"labelList\"])\n",
    "\n",
    "# Security check\n",
    "if(len(audioFiles) == len(audioLabels)):\n",
    "    print(f\"Extracted files and labels for a total lenght of {len(audioFiles)}\")\n",
    "else:\n",
    "    print(\"Error in dataset\")"
   ]
  },
  {
   "cell_type": "code",
   "execution_count": 13,
   "metadata": {},
   "outputs": [
    {
     "name": "stdout",
     "output_type": "stream",
     "text": [
      "Top labels: ['drum set', 'vocalists', 'electric bass', 'clean electric guitar', 'piano', 'synthesizer', 'distorted electric guitar', 'male singer', 'fx/processed sound', 'acoustic guitar']\n",
      "Extracted 1803 samples from top 10 labels\n"
     ]
    }
   ],
   "source": [
    "from collections import Counter\n",
    "\n",
    "# Flatten all labels e conta frequenze\n",
    "all_labels = sum(df[\"labelList\"], [])\n",
    "label_counts = Counter(all_labels)\n",
    "\n",
    "# Prendi le 10 classi più frequenti\n",
    "top_labels = [label for label, _ in label_counts.most_common(10)]\n",
    "print(\"Top labels:\", top_labels)\n",
    "\n",
    "# Filtra righe dove almeno una label è in top_labels\n",
    "df_subset = df[df[\"labelList\"].apply(lambda labels: any(label in top_labels for label in labels))]\n",
    "\n",
    "# Estrai audio e label\n",
    "audioFilesSubset = df_subset[\"filePath\"].tolist()\n",
    "audioLabelsSubset = df_subset[\"labelList\"].tolist()\n",
    "\n",
    "if len(audioFilesSubset) == len(audioLabelsSubset):\n",
    "    print(f\"Extracted {len(audioFilesSubset)} samples from top 10 labels\")\n",
    "else:\n",
    "    print(\"Mismatch in extracted data\")\n"
   ]
  },
  {
   "cell_type": "code",
   "execution_count": 27,
   "metadata": {},
   "outputs": [
    {
     "name": "stdout",
     "output_type": "stream",
     "text": [
      "1803\n",
      "/Volumes/Extreme SSD/MedleyDB/Audio/AClassicEducation_NightOwl/AClassicEducation_NightOwl_RAW/AClassicEducation_NightOwl_RAW_01_01.wav\n"
     ]
    },
    {
     "ename": "",
     "evalue": "",
     "output_type": "error",
     "traceback": [
      "\u001b[1;31mThe Kernel crashed while executing code in the current cell or a previous cell. \n",
      "\u001b[1;31mPlease review the code in the cell(s) to identify a possible cause of the failure. \n",
      "\u001b[1;31mClick <a href='https://aka.ms/vscodeJupyterKernelCrash'>here</a> for more info. \n",
      "\u001b[1;31mView Jupyter <a href='command:jupyter.viewOutput'>log</a> for further details."
     ]
    }
   ],
   "source": [
    "# Load data\n",
    "audioFilesToExtract = audioFilesSubset # TESTING\n",
    "#audioFilesToExtract = audioFiles # REAL\n",
    "\n",
    "print(len(audioFilesSubset))\n",
    "\n",
    "print(audioFilesSubset[0])\n",
    "\n",
    "signals, sample_rate = [librosa.load(file, sr=22050) for file in audioFilesSubset]\n",
    "#signals, sample_rate = librosa.load(audioFilesSubset[0], sr=22050)\n",
    "\n",
    "print(f\"MAX: {max(signals)}\")\n",
    "print(f\"min: {min(signals)}\")\n",
    "\n",
    "mel_spegrams = []\n",
    "\n",
    "# Iterates over signals, normalizes them and computes mel spectrograms via librosa feature\n",
    "for signal in signals:\n",
    "    # Normalization of signal n\n",
    "    if np.max(np.abs(signal)) > 0:\n",
    "        signal = signal / np.max(np.abs(signal))\n",
    "\n",
    "    # Creation of mel spectrogram\n",
    "    S = librosa.feature.melspectrogram(y=signal, sr=22050)\n",
    "    S_dB = librosa.power_to_db(S, ref=np.max)\n",
    "    mel_spegrams.append(S_dB)\n",
    "\n",
    "# Plot of spectrogram n=0\n",
    "plt.figure(figsize=(15,8))\n",
    "librosa.display.specshow(mel_spegrams[0], sr=sample_rate, x_axis='time', y_axis='mel', fmax=sample_rate/2)\n",
    "plt.clim(-40,None)\n",
    "plt.colorbar()\n",
    "plt.title('Mel-scale Spectrogram of signal 0 (Librosa) - 40 Mel Filters')"
   ]
  },
  {
   "cell_type": "code",
   "execution_count": null,
   "metadata": {},
   "outputs": [],
   "source": [
    "# Convert list to numpy arrays\n",
    "AudioData = np.asarray(mel_spegrams)\n",
    "AudioLabels = np.asarray(audioLabelsSubset)\n",
    "\n",
    "print('Number of audio data: {} \\nNumber of audio labels: {}'.format(AudioData.shape, AudioLabels.shape))"
   ]
  },
  {
   "cell_type": "code",
   "execution_count": null,
   "metadata": {},
   "outputs": [],
   "source": [
    "# Plot an histogram to see data distribution over classes\n",
    "plt.figure(figsize=(10, 6))  \n",
    "plt.hist(AudioLabels, bins=20, edgecolor='black') \n",
    "plt.xlabel('Labels', fontsize=12)\n",
    "plt.ylabel('Quantity', fontsize=12)\n",
    "plt.title('Ydata Histogram', fontsize=14)\n",
    "plt.grid(True, linestyle='--', alpha=0.7)  \n",
    "plt.tight_layout()\n",
    "plt.show()"
   ]
  },
  {
   "cell_type": "code",
   "execution_count": null,
   "metadata": {},
   "outputs": [
    {
     "name": "stdout",
     "output_type": "stream",
     "text": [
      "Train: 1400 samples\n",
      "Validation: 300 samples\n",
      "Test: 300 samples\n"
     ]
    }
   ],
   "source": [
    "X = df[\"filepath\"]\n",
    "y = df[\"instrument\"]\n",
    "\n",
    "# Split into Train (70%) and Temp (30%)\n",
    "X_train, X_temp, y_train, y_temp = train_test_split(\n",
    "    X, y, test_size=0.30, stratify=y, random_state=42\n",
    ")\n",
    "\n",
    "# Split Temp into Validation (15%) and Test (15%)\n",
    "X_val, X_test, y_val, y_test = train_test_split(\n",
    "    X_temp, y_temp, test_size=0.5, stratify=y_temp, random_state=42\n",
    ")\n",
    "\n",
    "print(f\"Train: {len(X_train)} samples\")\n",
    "print(f\"Validation: {len(X_val)} samples\")\n",
    "print(f\"Test: {len(X_test)} samples\")\n"
   ]
  }
 ],
 "metadata": {
  "colab": {
   "collapsed_sections": [
    "iNJ-d4zDUwAl"
   ],
   "provenance": [
    {
     "file_id": "1eg4ysGRmcU-8BENj7XWR0P7goV391s_I",
     "timestamp": 1741182208526
    }
   ]
  },
  "kernelspec": {
   "display_name": "venv-timbre",
   "language": "python",
   "name": "python3"
  },
  "language_info": {
   "codemirror_mode": {
    "name": "ipython",
    "version": 3
   },
   "file_extension": ".py",
   "mimetype": "text/x-python",
   "name": "python",
   "nbconvert_exporter": "python",
   "pygments_lexer": "ipython3",
   "version": "3.8.19"
  }
 },
 "nbformat": 4,
 "nbformat_minor": 0
}
