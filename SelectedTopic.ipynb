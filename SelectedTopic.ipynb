{
 "cells": [
  {
   "cell_type": "markdown",
   "metadata": {
    "id": "view-in-github"
   },
   "source": [
    "<a href=\"https://drive.google.com/file/d/1-lmvLqHRoVztabnwQ8RbZuDhpsd1kmYY/view?usp=sharing\" target=\"_parent\"><img src=\"https://colab.research.google.com/assets/colab-badge.svg\" alt=\"Open In Colab\"/></a>"
   ]
  },
  {
   "cell_type": "markdown",
   "metadata": {
    "id": "C1kpc8L4BIgP"
   },
   "source": [
    "**Research project** for the course of *Selected Topics in Music and Acoustic Engineering* :\n",
    "\n",
    "***Music Instrument Classification***\n",
    "---\n",
    "Team:\n",
    "* Andrea Crisafulli\n",
    "* Marco Porcella\n",
    "* Giacomo De Toni\n",
    "* Gianluigi Vecchini"
   ]
  },
  {
   "cell_type": "markdown",
   "metadata": {
    "id": "zV3R57F_h9nz"
   },
   "source": [
    "### *Import libraries*:"
   ]
  },
  {
   "cell_type": "code",
   "execution_count": 25,
   "metadata": {
    "executionInfo": {
     "elapsed": 25,
     "status": "ok",
     "timestamp": 1741789150083,
     "user": {
      "displayName": "gianluigi vecchini",
      "userId": "14572864369043101278"
     },
     "user_tz": -60
    },
    "id": "XSbySaOmh9n0"
   },
   "outputs": [],
   "source": [
    "# ✅ Core Python & Scientific Computing\n",
    "import numpy as np\n",
    "import pandas as pd\n",
    "import matplotlib.pyplot as plt\n",
    "from pathlib import Path\n",
    "import scipy.signal as signal\n",
    "\n",
    "# ✅ Audio Processing\n",
    "import librosa\n",
    "import librosa.display\n",
    "import IPython\n",
    "\n",
    "# ✅ Scikit-learn (ML + preprocessing)\n",
    "import sklearn\n",
    "from sklearn.metrics import accuracy_score, classification_report, confusion_matrix, ConfusionMatrixDisplay\n",
    "from sklearn.decomposition import PCA\n",
    "from sklearn.preprocessing import scale, StandardScaler\n",
    "from sklearn.model_selection import train_test_split\n",
    "from sklearn.svm import SVC\n",
    "from sklearn.neighbors import KNeighborsClassifier\n",
    "from sklearn.cluster import KMeans\n",
    "\n",
    "# ✅ TensorFlow / Keras (DL)\n",
    "import tensorflow as tf\n",
    "from tensorflow.keras.callbacks import CSVLogger, EarlyStopping, ModelCheckpoint\n",
    "\n",
    "# ✅ PyTorch (opzionale, se usi anche torch)\n",
    "import torch\n",
    "import torch.nn as nn\n",
    "import torch.nn.functional as F\n",
    "\n",
    "import yaml\n",
    "from pathlib import Path\n",
    "\n",
    "# ✅ Plotting style\n",
    "plt.style.use(\"seaborn-v0_8\")\n"
   ]
  },
  {
   "cell_type": "code",
   "execution_count": 3,
   "metadata": {},
   "outputs": [],
   "source": [
    "class CNN_MFCC(nn.Module):\n",
    "    def __init__(self, num_classes):\n",
    "        super().__init__()\n",
    "        self.conv1 = nn.Conv2d(1, 16, kernel_size=3)\n",
    "        self.pool = nn.MaxPool2d(2)\n",
    "        self.conv2 = nn.Conv2d(16, 32, kernel_size=3)\n",
    "        self.fc1 = nn.Linear(32 * 30 * 3, 64)\n",
    "        self.fc2 = nn.Linear(64, num_classes)\n",
    "\n",
    "    def forward(self, x):\n",
    "        x = self.pool(F.relu(self.conv1(x.unsqueeze(1))))\n",
    "        x = self.pool(F.relu(self.conv2(x)))\n",
    "        x = x.view(x.size(0), -1)\n",
    "        x = F.relu(self.fc1(x))\n",
    "        return self.fc2(x)"
   ]
  },
  {
   "cell_type": "code",
   "execution_count": 4,
   "metadata": {},
   "outputs": [],
   "source": [
    "def extract_mfcc(file_path, n_mfcc=13, max_len=130):\n",
    "    y, sr = librosa.load(file_path, sr=None)\n",
    "    mfcc = librosa.feature.mfcc(y=y, sr=sr, n_mfcc=n_mfcc)\n",
    "    if mfcc.shape[1] < max_len:\n",
    "        pad_width = max_len - mfcc.shape[1]\n",
    "        mfcc = np.pad(mfcc, ((0, 0), (0, pad_width)), mode='constant')\n",
    "    else:\n",
    "        mfcc = mfcc[:, :max_len]\n",
    "    return mfcc"
   ]
  },
  {
   "cell_type": "markdown",
   "metadata": {
    "id": "yc88qhCUSlQi"
   },
   "source": [
    "### Import audio data."
   ]
  },
  {
   "cell_type": "code",
   "execution_count": null,
   "metadata": {},
   "outputs": [
    {
     "name": "stdout",
     "output_type": "stream",
     "text": [
      "Loaded 978 audio files.\n",
      "<class 'pandas.core.frame.DataFrame'>\n",
      "RangeIndex: 978 entries, 0 to 977\n",
      "Data columns (total 5 columns):\n",
      " #   Column      Non-Null Count  Dtype \n",
      "---  ------      --------------  ----- \n",
      " 0   song        978 non-null    object\n",
      " 1   songPath    978 non-null    object\n",
      " 2   label       978 non-null    object\n",
      " 3   filePaths   978 non-null    object\n",
      " 4   label_list  978 non-null    object\n",
      "dtypes: object(5)\n",
      "memory usage: 38.3+ KB\n"
     ]
    }
   ],
   "source": [
    "import pandas as pd\n",
    "import yaml\n",
    "from pathlib import Path\n",
    "from sklearn.preprocessing import MultiLabelBinarizer\n",
    "\n",
    "basePath = Path(\"E:/MedleyDB\")\n",
    "audioPath = basePath / \"Audio\"\n",
    "data = []\n",
    "\n",
    "# Iterates over directories in the melodyDB/Audio folder\n",
    "for songDir in audioPath.iterdir():\n",
    "    labelArray = []\n",
    "    \n",
    "    # Security check to skip not directory items\n",
    "    if not songDir.is_dir():\n",
    "        continue\n",
    "    \n",
    "    songName = songDir.name\n",
    "    yamlFilePath = audioPath / songDir / f\"{songName}_METADATA.yaml\" # Path to YAML metadata file\n",
    "    \n",
    "    # Opens YAML metadata file in read mode\n",
    "    with open(yamlFilePath, \"r\") as f:\n",
    "        metadata = yaml.safe_load(f)\n",
    "    \n",
    "    # Recovers stems from metadata and stores in dictionary\n",
    "    stemsData = metadata.get(\"stems\", {})\n",
    "    \n",
    "    # Iterates over stems\n",
    "    for stemId, stem in stemsData.items():\n",
    "        instrumentData = [] # Empty data for raw paths\n",
    "        \n",
    "        rawData = stem.get(\"raw\", {})\n",
    "        # Iterates over raw items to store the relative paths\n",
    "        for rawId, raw in rawData.items():\n",
    "            rawPath = audioPath / songDir /  f\"{songDir}_RAW\" / raw.get(\"filename\")\n",
    "            \n",
    "            # Checks for valid files\n",
    "            if(not rawPath.name.startswith(\".\")):\n",
    "                instrumentData.append(rawPath)\n",
    "        \n",
    "        # Also adds stem generic file\n",
    "        instrumentData.append(audioPath / songDir / f\"{songDir}_STEMS\" / stem.get(\"filename\"))\n",
    "        \n",
    "        # Creates new data\n",
    "        newData = {\n",
    "            \"song\": songName,\n",
    "            \"songPath\": audioPath / songDir,\n",
    "            \"label\": stem.get(\"instrument\"),\n",
    "            \"filePaths\": instrumentData\n",
    "        }\n",
    "        \n",
    "        # Appends to data \n",
    "        data.append(newData)\n",
    "        \n",
    "        labelArray.append(stem.get(\"instrument\"))\n",
    "        \n",
    "    labelFormatted = \"|\".join(sorted(set(labelArray)))\n",
    "    \n",
    "    mixData = {\n",
    "        \"song\": songName,\n",
    "        \"songPath\": audioPath / songDir,\n",
    "        \"label\": labelFormatted,\n",
    "        \"filePaths\": audioPath / songDir / f\"{songDir}_MIX.wav\"\n",
    "    }\n",
    "    \n",
    "    data.append(mixData)\n",
    "# Create DataFrame\n",
    "df = pd.DataFrame(data)\n",
    "print(f\"Loaded {len(df)} audio files.\")\n",
    "\n",
    "# Converte stringa in lista\n",
    "df[\"label_list\"] = df[\"label\"].str.split(\"|\")\n",
    "df[\"label_list\"] = df[\"label_list\"].apply(lambda label_list: [label for label in label_list if label != \"Main System\"])\n",
    "\n",
    "mlb = MultiLabelBinarizer()\n",
    "mlb.fit_transform(df[\"label_list\"])"
   ]
  },
  {
   "cell_type": "code",
   "execution_count": 63,
   "metadata": {},
   "outputs": [
    {
     "data": {
      "text/html": [
       "<div>\n",
       "<style scoped>\n",
       "    .dataframe tbody tr th:only-of-type {\n",
       "        vertical-align: middle;\n",
       "    }\n",
       "\n",
       "    .dataframe tbody tr th {\n",
       "        vertical-align: top;\n",
       "    }\n",
       "\n",
       "    .dataframe thead th {\n",
       "        text-align: right;\n",
       "    }\n",
       "</style>\n",
       "<table border=\"1\" class=\"dataframe\">\n",
       "  <thead>\n",
       "    <tr style=\"text-align: right;\">\n",
       "      <th></th>\n",
       "      <th>song</th>\n",
       "      <th>songPath</th>\n",
       "      <th>label</th>\n",
       "      <th>filePaths</th>\n",
       "      <th>label_list</th>\n",
       "    </tr>\n",
       "  </thead>\n",
       "  <tbody>\n",
       "    <tr>\n",
       "      <th>0</th>\n",
       "      <td>AClassicEducation_NightOwl</td>\n",
       "      <td>E:\\MedleyDB\\Audio\\AClassicEducation_NightOwl</td>\n",
       "      <td>electric bass</td>\n",
       "      <td>[E:\\MedleyDB\\Audio\\AClassicEducation_NightOwl_...</td>\n",
       "      <td>[electric bass]</td>\n",
       "    </tr>\n",
       "    <tr>\n",
       "      <th>1</th>\n",
       "      <td>AClassicEducation_NightOwl</td>\n",
       "      <td>E:\\MedleyDB\\Audio\\AClassicEducation_NightOwl</td>\n",
       "      <td>drum set</td>\n",
       "      <td>[E:\\MedleyDB\\Audio\\AClassicEducation_NightOwl_...</td>\n",
       "      <td>[drum set]</td>\n",
       "    </tr>\n",
       "    <tr>\n",
       "      <th>2</th>\n",
       "      <td>AClassicEducation_NightOwl</td>\n",
       "      <td>E:\\MedleyDB\\Audio\\AClassicEducation_NightOwl</td>\n",
       "      <td>distorted electric guitar</td>\n",
       "      <td>[E:\\MedleyDB\\Audio\\AClassicEducation_NightOwl_...</td>\n",
       "      <td>[distorted electric guitar]</td>\n",
       "    </tr>\n",
       "    <tr>\n",
       "      <th>3</th>\n",
       "      <td>AClassicEducation_NightOwl</td>\n",
       "      <td>E:\\MedleyDB\\Audio\\AClassicEducation_NightOwl</td>\n",
       "      <td>distorted electric guitar</td>\n",
       "      <td>[E:\\MedleyDB\\Audio\\AClassicEducation_NightOwl_...</td>\n",
       "      <td>[distorted electric guitar]</td>\n",
       "    </tr>\n",
       "    <tr>\n",
       "      <th>4</th>\n",
       "      <td>AClassicEducation_NightOwl</td>\n",
       "      <td>E:\\MedleyDB\\Audio\\AClassicEducation_NightOwl</td>\n",
       "      <td>clean electric guitar</td>\n",
       "      <td>[E:\\MedleyDB\\Audio\\AClassicEducation_NightOwl_...</td>\n",
       "      <td>[clean electric guitar]</td>\n",
       "    </tr>\n",
       "  </tbody>\n",
       "</table>\n",
       "</div>"
      ],
      "text/plain": [
       "                         song                                      songPath  \\\n",
       "0  AClassicEducation_NightOwl  E:\\MedleyDB\\Audio\\AClassicEducation_NightOwl   \n",
       "1  AClassicEducation_NightOwl  E:\\MedleyDB\\Audio\\AClassicEducation_NightOwl   \n",
       "2  AClassicEducation_NightOwl  E:\\MedleyDB\\Audio\\AClassicEducation_NightOwl   \n",
       "3  AClassicEducation_NightOwl  E:\\MedleyDB\\Audio\\AClassicEducation_NightOwl   \n",
       "4  AClassicEducation_NightOwl  E:\\MedleyDB\\Audio\\AClassicEducation_NightOwl   \n",
       "\n",
       "                       label  \\\n",
       "0              electric bass   \n",
       "1                   drum set   \n",
       "2  distorted electric guitar   \n",
       "3  distorted electric guitar   \n",
       "4      clean electric guitar   \n",
       "\n",
       "                                           filePaths  \\\n",
       "0  [E:\\MedleyDB\\Audio\\AClassicEducation_NightOwl_...   \n",
       "1  [E:\\MedleyDB\\Audio\\AClassicEducation_NightOwl_...   \n",
       "2  [E:\\MedleyDB\\Audio\\AClassicEducation_NightOwl_...   \n",
       "3  [E:\\MedleyDB\\Audio\\AClassicEducation_NightOwl_...   \n",
       "4  [E:\\MedleyDB\\Audio\\AClassicEducation_NightOwl_...   \n",
       "\n",
       "                    label_list  \n",
       "0              [electric bass]  \n",
       "1                   [drum set]  \n",
       "2  [distorted electric guitar]  \n",
       "3  [distorted electric guitar]  \n",
       "4      [clean electric guitar]  "
      ]
     },
     "execution_count": 63,
     "metadata": {},
     "output_type": "execute_result"
    }
   ],
   "source": [
    "df.head()"
   ]
  },
  {
   "cell_type": "code",
   "execution_count": 64,
   "metadata": {},
   "outputs": [
    {
     "name": "stdout",
     "output_type": "stream",
     "text": [
      "<class 'pandas.core.frame.DataFrame'>\n",
      "RangeIndex: 978 entries, 0 to 977\n",
      "Data columns (total 5 columns):\n",
      " #   Column      Non-Null Count  Dtype \n",
      "---  ------      --------------  ----- \n",
      " 0   song        978 non-null    object\n",
      " 1   songPath    978 non-null    object\n",
      " 2   label       978 non-null    object\n",
      " 3   filePaths   978 non-null    object\n",
      " 4   label_list  978 non-null    object\n",
      "dtypes: object(5)\n",
      "memory usage: 38.3+ KB\n"
     ]
    }
   ],
   "source": [
    "\n",
    "df.info()"
   ]
  },
  {
   "cell_type": "code",
   "execution_count": null,
   "metadata": {},
   "outputs": [
    {
     "name": "stdout",
     "output_type": "stream",
     "text": [
      "Train: 1400 samples\n",
      "Validation: 300 samples\n",
      "Test: 300 samples\n"
     ]
    }
   ],
   "source": [
    "X = df[\"filepath\"]\n",
    "y = df[\"instrument\"]\n",
    "\n",
    "# Split into Train (70%) and Temp (30%)\n",
    "X_train, X_temp, y_train, y_temp = train_test_split(\n",
    "    X, y, test_size=0.30, stratify=y, random_state=42\n",
    ")\n",
    "\n",
    "# Split Temp into Validation (15%) and Test (15%)\n",
    "X_val, X_test, y_val, y_test = train_test_split(\n",
    "    X_temp, y_temp, test_size=0.5, stratify=y_temp, random_state=42\n",
    ")\n",
    "\n",
    "print(f\"Train: {len(X_train)} samples\")\n",
    "print(f\"Validation: {len(X_val)} samples\")\n",
    "print(f\"Test: {len(X_test)} samples\")\n"
   ]
  }
 ],
 "metadata": {
  "colab": {
   "collapsed_sections": [
    "iNJ-d4zDUwAl"
   ],
   "provenance": [
    {
     "file_id": "1eg4ysGRmcU-8BENj7XWR0P7goV391s_I",
     "timestamp": 1741182208526
    }
   ]
  },
  "kernelspec": {
   "display_name": "venv-timbre",
   "language": "python",
   "name": "python3"
  },
  "language_info": {
   "codemirror_mode": {
    "name": "ipython",
    "version": 3
   },
   "file_extension": ".py",
   "mimetype": "text/x-python",
   "name": "python",
   "nbconvert_exporter": "python",
   "pygments_lexer": "ipython3",
   "version": "3.10.11"
  }
 },
 "nbformat": 4,
 "nbformat_minor": 0
}
